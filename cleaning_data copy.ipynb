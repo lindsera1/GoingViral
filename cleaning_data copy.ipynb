{
 "cells": [
  {
   "cell_type": "code",
   "execution_count": 1,
   "metadata": {},
   "outputs": [],
   "source": [
    "import pandas as pd"
   ]
  },
  {
   "cell_type": "code",
   "execution_count": 2,
   "metadata": {},
   "outputs": [
    {
     "data": {
      "text/html": [
       "<div>\n",
       "<style scoped>\n",
       "    .dataframe tbody tr th:only-of-type {\n",
       "        vertical-align: middle;\n",
       "    }\n",
       "\n",
       "    .dataframe tbody tr th {\n",
       "        vertical-align: top;\n",
       "    }\n",
       "\n",
       "    .dataframe thead th {\n",
       "        text-align: right;\n",
       "    }\n",
       "</style>\n",
       "<table border=\"1\" class=\"dataframe\">\n",
       "  <thead>\n",
       "    <tr style=\"text-align: right;\">\n",
       "      <th></th>\n",
       "      <th>state</th>\n",
       "      <th>2016</th>\n",
       "      <th>2017</th>\n",
       "      <th>2018</th>\n",
       "      <th>2019</th>\n",
       "    </tr>\n",
       "  </thead>\n",
       "  <tbody>\n",
       "    <tr>\n",
       "      <th>0</th>\n",
       "      <td>Alabama</td>\n",
       "      <td>191523</td>\n",
       "      <td>193693</td>\n",
       "      <td>198053</td>\n",
       "      <td>200829</td>\n",
       "    </tr>\n",
       "    <tr>\n",
       "      <th>1</th>\n",
       "      <td>Alaska</td>\n",
       "      <td>53289</td>\n",
       "      <td>52825</td>\n",
       "      <td>52928</td>\n",
       "      <td>53255</td>\n",
       "    </tr>\n",
       "    <tr>\n",
       "      <th>2</th>\n",
       "      <td>Arizona</td>\n",
       "      <td>291259</td>\n",
       "      <td>302117</td>\n",
       "      <td>314016</td>\n",
       "      <td>323597</td>\n",
       "    </tr>\n",
       "    <tr>\n",
       "      <th>3</th>\n",
       "      <td>Arkansas</td>\n",
       "      <td>113490</td>\n",
       "      <td>114950</td>\n",
       "      <td>116698</td>\n",
       "      <td>117447</td>\n",
       "    </tr>\n",
       "    <tr>\n",
       "      <th>4</th>\n",
       "      <td>California</td>\n",
       "      <td>2519133</td>\n",
       "      <td>2628314</td>\n",
       "      <td>2708966</td>\n",
       "      <td>2800505</td>\n",
       "    </tr>\n",
       "  </tbody>\n",
       "</table>\n",
       "</div>"
      ],
      "text/plain": [
       "        state     2016     2017     2018     2019\n",
       "0     Alabama   191523   193693   198053   200829\n",
       "1      Alaska    53289    52825    52928    53255\n",
       "2     Arizona   291259   302117   314016   323597\n",
       "3    Arkansas   113490   114950   116698   117447\n",
       "4  California  2519133  2628314  2708966  2800505"
      ]
     },
     "execution_count": 2,
     "metadata": {},
     "output_type": "execute_result"
    }
   ],
   "source": [
    "gdp_df = pd.read_csv(\"cleaned_gbp.csv\")\n",
    "gdp_df = gdp_df.drop(['Unnamed: 0','Description', 'GDP_2015'],axis=1)\n",
    "gdp_df = gdp_df.rename(columns = {'State_Name':'state', \n",
    "                                  'GDP_2016':'2016', \n",
    "                                  'GDP_2017':'2017',\n",
    "                                  'GDP_2018':'2018', \n",
    "                                  'GDP_2019':'2019'})\n",
    "gdp_df.head()"
   ]
  },
  {
   "cell_type": "code",
   "execution_count": 3,
   "metadata": {},
   "outputs": [
    {
     "name": "stdout",
     "output_type": "stream",
     "text": [
      "               year      gdp\n",
      "state                       \n",
      "Alabama        2016   191523\n",
      "Alaska         2016    53289\n",
      "Arizona        2016   291259\n",
      "Arkansas       2016   113490\n",
      "California     2016  2519133\n",
      "...             ...      ...\n",
      "Virginia       2019   489168\n",
      "Washington     2019   548686\n",
      "West Virginia  2019    72340\n",
      "Wisconsin      2019   308044\n",
      "Wyoming        2019    39214\n",
      "\n",
      "[200 rows x 2 columns]\n"
     ]
    }
   ],
   "source": [
    "gdp_df_melted = pd.melt(gdp_df, id_vars=[\"state\"], value_vars=[\"2016\", \"2017\", \"2018\", \"2019\"])\n",
    "gdp_df_melted.set_index(\"state\", inplace = True)\n",
    "gdp_df_melted = gdp_df_melted.rename(columns = {'variable':'year', \n",
    "                                                'value':'gdp'})\n",
    "#gdp_df_melted['year']=pd.to_datetime(gdp_df_melted['year'])\n",
    "print(gdp_df_melted)"
   ]
  },
  {
   "cell_type": "code",
   "execution_count": 4,
   "metadata": {
    "scrolled": true
   },
   "outputs": [
    {
     "data": {
      "text/html": [
       "<div>\n",
       "<style scoped>\n",
       "    .dataframe tbody tr th:only-of-type {\n",
       "        vertical-align: middle;\n",
       "    }\n",
       "\n",
       "    .dataframe tbody tr th {\n",
       "        vertical-align: top;\n",
       "    }\n",
       "\n",
       "    .dataframe thead th {\n",
       "        text-align: right;\n",
       "    }\n",
       "</style>\n",
       "<table border=\"1\" class=\"dataframe\">\n",
       "  <thead>\n",
       "    <tr style=\"text-align: right;\">\n",
       "      <th></th>\n",
       "      <th>state</th>\n",
       "      <th>2016</th>\n",
       "      <th>2017</th>\n",
       "      <th>2018</th>\n",
       "      <th>2019</th>\n",
       "    </tr>\n",
       "  </thead>\n",
       "  <tbody>\n",
       "    <tr>\n",
       "      <th>0</th>\n",
       "      <td>Alabama</td>\n",
       "      <td>0.237400</td>\n",
       "      <td>0.551402</td>\n",
       "      <td>1.309394</td>\n",
       "      <td>1.401620</td>\n",
       "    </tr>\n",
       "    <tr>\n",
       "      <th>1</th>\n",
       "      <td>Alaska</td>\n",
       "      <td>0.143367</td>\n",
       "      <td>0.446938</td>\n",
       "      <td>1.136112</td>\n",
       "      <td>1.127613</td>\n",
       "    </tr>\n",
       "    <tr>\n",
       "      <th>2</th>\n",
       "      <td>Arizona</td>\n",
       "      <td>0.322227</td>\n",
       "      <td>0.320031</td>\n",
       "      <td>0.343307</td>\n",
       "      <td>0.281698</td>\n",
       "    </tr>\n",
       "    <tr>\n",
       "      <th>3</th>\n",
       "      <td>Arkansas</td>\n",
       "      <td>0.096424</td>\n",
       "      <td>0.174888</td>\n",
       "      <td>0.193738</td>\n",
       "      <td>0.196799</td>\n",
       "    </tr>\n",
       "    <tr>\n",
       "      <th>4</th>\n",
       "      <td>California</td>\n",
       "      <td>0.112745</td>\n",
       "      <td>0.117121</td>\n",
       "      <td>0.132161</td>\n",
       "      <td>0.132136</td>\n",
       "    </tr>\n",
       "  </tbody>\n",
       "</table>\n",
       "</div>"
      ],
      "text/plain": [
       "        state      2016      2017      2018      2019\n",
       "0     Alabama  0.237400  0.551402  1.309394  1.401620\n",
       "1      Alaska  0.143367  0.446938  1.136112  1.127613\n",
       "2     Arizona  0.322227  0.320031  0.343307  0.281698\n",
       "3    Arkansas  0.096424  0.174888  0.193738  0.196799\n",
       "4  California  0.112745  0.117121  0.132161  0.132136"
      ]
     },
     "execution_count": 4,
     "metadata": {},
     "output_type": "execute_result"
    }
   ],
   "source": [
    "flu_percentages_df = pd.read_csv(\"flu_percentages.csv\")\n",
    "flu_percentages_df = flu_percentages_df.rename(columns = {'2016_cases_percent':'2016', \n",
    "                                                          '2017_cases_percent':'2017', \n",
    "                                                          '2018_cases_percent':'2018', \n",
    "                                                          '2019_cases_percent':'2019'})\n",
    "flu_percentages_df.head()"
   ]
  },
  {
   "cell_type": "code",
   "execution_count": 5,
   "metadata": {},
   "outputs": [
    {
     "name": "stdout",
     "output_type": "stream",
     "text": [
      "               year   flu_per\n",
      "state                        \n",
      "Alabama        2016  0.237400\n",
      "Alaska         2016  0.143367\n",
      "Arizona        2016  0.322227\n",
      "Arkansas       2016  0.096424\n",
      "California     2016  0.112745\n",
      "...             ...       ...\n",
      "Virginia       2019  1.670068\n",
      "Washington     2019  0.142418\n",
      "West Virginia  2019  0.647213\n",
      "Wisconsin      2019  0.305250\n",
      "Wyoming        2019  0.542540\n",
      "\n",
      "[200 rows x 2 columns]\n"
     ]
    }
   ],
   "source": [
    "flu_percentages_melted = pd.melt(flu_percentages_df, id_vars=[\"state\"], value_vars=[\"2016\", \"2017\", \"2018\", \"2019\"])\n",
    "flu_percentages_melted.set_index(\"state\", inplace = True)\n",
    "flu_percentages_melted = flu_percentages_melted.rename(columns = {'variable':'year', \n",
    "                                                          'value':'flu_per'})\n",
    "#flu_percentages_melted['year']=pd.to_datetime(flu_percentages_melted['year'])\n",
    "print(flu_percentages_melted)"
   ]
  },
  {
   "cell_type": "code",
   "execution_count": 6,
   "metadata": {},
   "outputs": [
    {
     "data": {
      "text/plain": [
       "year        object\n",
       "flu_per    float64\n",
       "dtype: object"
      ]
     },
     "execution_count": 6,
     "metadata": {},
     "output_type": "execute_result"
    }
   ],
   "source": [
    "flu_percentages_melted.dtypes"
   ]
  },
  {
   "cell_type": "code",
   "execution_count": 7,
   "metadata": {},
   "outputs": [
    {
     "data": {
      "text/html": [
       "<div>\n",
       "<style scoped>\n",
       "    .dataframe tbody tr th:only-of-type {\n",
       "        vertical-align: middle;\n",
       "    }\n",
       "\n",
       "    .dataframe tbody tr th {\n",
       "        vertical-align: top;\n",
       "    }\n",
       "\n",
       "    .dataframe thead th {\n",
       "        text-align: right;\n",
       "    }\n",
       "</style>\n",
       "<table border=\"1\" class=\"dataframe\">\n",
       "  <thead>\n",
       "    <tr style=\"text-align: right;\">\n",
       "      <th></th>\n",
       "      <th>state</th>\n",
       "      <th>2016</th>\n",
       "      <th>2017</th>\n",
       "      <th>2018</th>\n",
       "      <th>2019</th>\n",
       "    </tr>\n",
       "  </thead>\n",
       "  <tbody>\n",
       "    <tr>\n",
       "      <th>0</th>\n",
       "      <td>Alabama</td>\n",
       "      <td>96.03</td>\n",
       "      <td>96.25</td>\n",
       "      <td>96.51</td>\n",
       "      <td>96.81</td>\n",
       "    </tr>\n",
       "    <tr>\n",
       "      <th>1</th>\n",
       "      <td>Alaska</td>\n",
       "      <td>1.30</td>\n",
       "      <td>1.30</td>\n",
       "      <td>1.29</td>\n",
       "      <td>1.28</td>\n",
       "    </tr>\n",
       "    <tr>\n",
       "      <th>2</th>\n",
       "      <td>Arizona</td>\n",
       "      <td>61.10</td>\n",
       "      <td>62.01</td>\n",
       "      <td>63.01</td>\n",
       "      <td>64.08</td>\n",
       "    </tr>\n",
       "    <tr>\n",
       "      <th>3</th>\n",
       "      <td>Arkansas</td>\n",
       "      <td>57.46</td>\n",
       "      <td>57.68</td>\n",
       "      <td>57.84</td>\n",
       "      <td>58.00</td>\n",
       "    </tr>\n",
       "    <tr>\n",
       "      <th>4</th>\n",
       "      <td>California</td>\n",
       "      <td>251.43</td>\n",
       "      <td>252.66</td>\n",
       "      <td>253.32</td>\n",
       "      <td>253.64</td>\n",
       "    </tr>\n",
       "  </tbody>\n",
       "</table>\n",
       "</div>"
      ],
      "text/plain": [
       "        state    2016    2017    2018    2019\n",
       "0     Alabama   96.03   96.25   96.51   96.81\n",
       "1      Alaska    1.30    1.30    1.29    1.28\n",
       "2     Arizona   61.10   62.01   63.01   64.08\n",
       "3    Arkansas   57.46   57.68   57.84   58.00\n",
       "4  California  251.43  252.66  253.32  253.64"
      ]
     },
     "execution_count": 7,
     "metadata": {},
     "output_type": "execute_result"
    }
   ],
   "source": [
    "population_density_df = pd.read_csv(\"Final_Population_Density_Cleaned.csv\")\n",
    "population_density_df = population_density_df.drop(['Land Area (sq mi)'],axis=1)\n",
    "population_density_df = population_density_df.rename(columns = {'State':'state', \n",
    "                                                                '2016 Population Density (persons/square mile)':'2016', \n",
    "                                                                '2017 Population Density (persons/square mile)':'2017',\n",
    "                                                                '2018 Population Density (persons/square mile)':'2018', \n",
    "                                                                '2019 Population Density (persons/square mile)':'2019'})\n",
    "population_density_df.head()"
   ]
  },
  {
   "cell_type": "code",
   "execution_count": 8,
   "metadata": {},
   "outputs": [],
   "source": [
    "state_list = population_density_df.state.values.tolist()"
   ]
  },
  {
   "cell_type": "code",
   "execution_count": 9,
   "metadata": {},
   "outputs": [
    {
     "name": "stdout",
     "output_type": "stream",
     "text": [
      "               year  pop_dens\n",
      "state                        \n",
      "Alabama        2016     96.03\n",
      "Alaska         2016      1.30\n",
      "Arizona        2016     61.10\n",
      "Arkansas       2016     57.46\n",
      "California     2016    251.43\n",
      "...             ...       ...\n",
      "Virginia       2019    216.14\n",
      "Washington     2019    114.59\n",
      "West Virginia  2019     74.55\n",
      "Wisconsin      2019    107.51\n",
      "Wyoming        2019      5.96\n",
      "\n",
      "[200 rows x 2 columns]\n"
     ]
    }
   ],
   "source": [
    "population_density_melted = pd.melt(population_density_df, id_vars=[\"state\"], value_vars=[\"2016\", \"2017\", \"2018\", \"2019\"])\n",
    "population_density_melted = population_density_melted.rename(columns = {'variable':'year', \n",
    "                                                                        'value':'pop_dens'})\n",
    "population_density_melted.drop(population_density_melted.index[population_density_melted['state'] == \"District Of Columbia\"], axis=0, inplace= True)\n",
    "population_density_melted.set_index(\"state\", inplace = True)\n",
    "#population_density_melted['year']=pd.to_datetime(population_density_melted['year'])\n",
    "print(population_density_melted)"
   ]
  },
  {
   "cell_type": "code",
   "execution_count": 10,
   "metadata": {},
   "outputs": [
    {
     "data": {
      "text/plain": [
       "year         object\n",
       "pop_dens    float64\n",
       "dtype: object"
      ]
     },
     "execution_count": 10,
     "metadata": {},
     "output_type": "execute_result"
    }
   ],
   "source": [
    "population_density_melted.dtypes"
   ]
  },
  {
   "cell_type": "code",
   "execution_count": 11,
   "metadata": {},
   "outputs": [
    {
     "data": {
      "text/html": [
       "<div>\n",
       "<style scoped>\n",
       "    .dataframe tbody tr th:only-of-type {\n",
       "        vertical-align: middle;\n",
       "    }\n",
       "\n",
       "    .dataframe tbody tr th {\n",
       "        vertical-align: top;\n",
       "    }\n",
       "\n",
       "    .dataframe thead th {\n",
       "        text-align: right;\n",
       "    }\n",
       "</style>\n",
       "<table border=\"1\" class=\"dataframe\">\n",
       "  <thead>\n",
       "    <tr style=\"text-align: right;\">\n",
       "      <th></th>\n",
       "      <th>state</th>\n",
       "      <th>2016</th>\n",
       "      <th>2017</th>\n",
       "      <th>2018</th>\n",
       "      <th>2019</th>\n",
       "    </tr>\n",
       "  </thead>\n",
       "  <tbody>\n",
       "    <tr>\n",
       "      <th>0</th>\n",
       "      <td>Alabama</td>\n",
       "      <td>39536.0</td>\n",
       "      <td>41030.0</td>\n",
       "      <td>42710.0</td>\n",
       "      <td>44145.0</td>\n",
       "    </tr>\n",
       "    <tr>\n",
       "      <th>1</th>\n",
       "      <td>Alaska</td>\n",
       "      <td>56302.0</td>\n",
       "      <td>57394.0</td>\n",
       "      <td>60355.0</td>\n",
       "      <td>62806.0</td>\n",
       "    </tr>\n",
       "    <tr>\n",
       "      <th>2</th>\n",
       "      <td>Arizona</td>\n",
       "      <td>40801.0</td>\n",
       "      <td>42590.0</td>\n",
       "      <td>44597.0</td>\n",
       "      <td>46058.0</td>\n",
       "    </tr>\n",
       "    <tr>\n",
       "      <th>3</th>\n",
       "      <td>Arkansas</td>\n",
       "      <td>40385.0</td>\n",
       "      <td>41657.0</td>\n",
       "      <td>43325.0</td>\n",
       "      <td>44629.0</td>\n",
       "    </tr>\n",
       "    <tr>\n",
       "      <th>4</th>\n",
       "      <td>California</td>\n",
       "      <td>58048.0</td>\n",
       "      <td>60549.0</td>\n",
       "      <td>63720.0</td>\n",
       "      <td>66619.0</td>\n",
       "    </tr>\n",
       "  </tbody>\n",
       "</table>\n",
       "</div>"
      ],
      "text/plain": [
       "        state     2016     2017     2018     2019\n",
       "0     Alabama  39536.0  41030.0  42710.0  44145.0\n",
       "1      Alaska  56302.0  57394.0  60355.0  62806.0\n",
       "2     Arizona  40801.0  42590.0  44597.0  46058.0\n",
       "3    Arkansas  40385.0  41657.0  43325.0  44629.0\n",
       "4  California  58048.0  60549.0  63720.0  66619.0"
      ]
     },
     "execution_count": 11,
     "metadata": {},
     "output_type": "execute_result"
    }
   ],
   "source": [
    "pci_df = pd.read_csv(\"pci_by_state_cleaned.csv\") \n",
    "pci_df = pci_df.assign(state = state_list)\n",
    "pci_df = pci_df[['state','2016','2017','2018', '2019']]\n",
    "#pci_df = pci_df.drop(['Unnamed: 0'],axis=1)\n",
    "pci_df.head()"
   ]
  },
  {
   "cell_type": "code",
   "execution_count": 12,
   "metadata": {},
   "outputs": [
    {
     "name": "stdout",
     "output_type": "stream",
     "text": [
      "               year      pci\n",
      "state                       \n",
      "Alabama        2016  39536.0\n",
      "Alaska         2016  56302.0\n",
      "Arizona        2016  40801.0\n",
      "Arkansas       2016  40385.0\n",
      "California     2016  58048.0\n",
      "...             ...      ...\n",
      "Virginia       2019  59657.0\n",
      "Washington     2019  64758.0\n",
      "West Virginia  2019  42315.0\n",
      "Wisconsin      2019  53227.0\n",
      "Wyoming        2019  62189.0\n",
      "\n",
      "[200 rows x 2 columns]\n"
     ]
    }
   ],
   "source": [
    "pci_melted = pd.melt(pci_df, id_vars=['state'], value_vars=[\"2016\", \"2017\", \"2018\", \"2019\"])\n",
    "pci_melted = pci_melted.rename(columns = {'variable':'year', \n",
    "                                          'value':'pci'})\n",
    "pci_melted.drop(pci_melted.index[pci_melted['state'] == \"District Of Columbia\"], axis=0, inplace= True)\n",
    "pci_melted.set_index(\"state\", inplace = True)\n",
    "#pci_melted['year']=pd.to_datetime(pci_melted['year'])\n",
    "print(pci_melted)"
   ]
  },
  {
   "cell_type": "code",
   "execution_count": 13,
   "metadata": {},
   "outputs": [
    {
     "data": {
      "text/plain": [
       "year     object\n",
       "pci     float64\n",
       "dtype: object"
      ]
     },
     "execution_count": 13,
     "metadata": {},
     "output_type": "execute_result"
    }
   ],
   "source": [
    "pci_melted.dtypes"
   ]
  },
  {
   "cell_type": "code",
   "execution_count": 14,
   "metadata": {},
   "outputs": [
    {
     "data": {
      "text/html": [
       "<div>\n",
       "<style scoped>\n",
       "    .dataframe tbody tr th:only-of-type {\n",
       "        vertical-align: middle;\n",
       "    }\n",
       "\n",
       "    .dataframe tbody tr th {\n",
       "        vertical-align: top;\n",
       "    }\n",
       "\n",
       "    .dataframe thead th {\n",
       "        text-align: right;\n",
       "    }\n",
       "</style>\n",
       "<table border=\"1\" class=\"dataframe\">\n",
       "  <thead>\n",
       "    <tr style=\"text-align: right;\">\n",
       "      <th></th>\n",
       "      <th>state</th>\n",
       "      <th>2016</th>\n",
       "      <th>2017</th>\n",
       "      <th>2018</th>\n",
       "      <th>2019</th>\n",
       "    </tr>\n",
       "  </thead>\n",
       "  <tbody>\n",
       "    <tr>\n",
       "      <th>0</th>\n",
       "      <td>Alabama</td>\n",
       "      <td>9.1</td>\n",
       "      <td>9.4</td>\n",
       "      <td>10.0</td>\n",
       "      <td>9.7</td>\n",
       "    </tr>\n",
       "    <tr>\n",
       "      <th>1</th>\n",
       "      <td>Alaska</td>\n",
       "      <td>14.0</td>\n",
       "      <td>13.7</td>\n",
       "      <td>12.6</td>\n",
       "      <td>12.2</td>\n",
       "    </tr>\n",
       "    <tr>\n",
       "      <th>2</th>\n",
       "      <td>Arizona</td>\n",
       "      <td>10.0</td>\n",
       "      <td>10.1</td>\n",
       "      <td>10.6</td>\n",
       "      <td>11.3</td>\n",
       "    </tr>\n",
       "    <tr>\n",
       "      <th>3</th>\n",
       "      <td>Arkansas</td>\n",
       "      <td>7.9</td>\n",
       "      <td>7.9</td>\n",
       "      <td>8.2</td>\n",
       "      <td>9.1</td>\n",
       "    </tr>\n",
       "    <tr>\n",
       "      <th>4</th>\n",
       "      <td>California</td>\n",
       "      <td>7.3</td>\n",
       "      <td>7.2</td>\n",
       "      <td>7.2</td>\n",
       "      <td>7.7</td>\n",
       "    </tr>\n",
       "  </tbody>\n",
       "</table>\n",
       "</div>"
      ],
      "text/plain": [
       "        state  2016  2017  2018  2019\n",
       "0     Alabama   9.1   9.4  10.0   9.7\n",
       "1      Alaska  14.0  13.7  12.6  12.2\n",
       "2     Arizona  10.0  10.1  10.6  11.3\n",
       "3    Arkansas   7.9   7.9   8.2   9.1\n",
       "4  California   7.3   7.2   7.2   7.7"
      ]
     },
     "execution_count": 14,
     "metadata": {},
     "output_type": "execute_result"
    }
   ],
   "source": [
    "uninsured_rate_df = pd.read_csv(\"States_Uninsured_Rates.csv\")\n",
    "uninsured_rate_df = uninsured_rate_df.rename(columns = {'State':'state', \n",
    "                                                                'Uninsured Rate 2016':'2016', \n",
    "                                                                'Uninsured Rate 2017':'2017',\n",
    "                                                                'Uninsured Rate 2018':'2018', \n",
    "                                                                'Uninsured Rate 2019':'2019'})\n",
    "uninsured_rate_df.head()"
   ]
  },
  {
   "cell_type": "code",
   "execution_count": 15,
   "metadata": {},
   "outputs": [
    {
     "name": "stdout",
     "output_type": "stream",
     "text": [
      "               year  uni_per\n",
      "state                       \n",
      "Alabama        2016      9.1\n",
      "Alaska         2016     14.0\n",
      "Arizona        2016     10.0\n",
      "Arkansas       2016      7.9\n",
      "California     2016      7.3\n",
      "...             ...      ...\n",
      "Virginia       2019      7.9\n",
      "Washington     2019      6.6\n",
      "West Virginia  2019      6.7\n",
      "Wisconsin      2019      5.7\n",
      "Wyoming        2019     12.3\n",
      "\n",
      "[200 rows x 2 columns]\n"
     ]
    }
   ],
   "source": [
    "uninsured_rate_melted = pd.melt(uninsured_rate_df, id_vars=['state'], value_vars=[\"2016\", \"2017\", \"2018\", \"2019\"])\n",
    "uninsured_rate_melted = uninsured_rate_melted.rename(columns = {'variable':'year', \n",
    "                                                                'value':'uni_per'})\n",
    "uninsured_rate_melted.drop(uninsured_rate_melted.index[uninsured_rate_melted['state'] == \"District Of Columbia\"], axis=0, inplace= True)\n",
    "uninsured_rate_melted.set_index(\"state\", inplace = True)\n",
    "#uninsured_rate_melted['year']=pd.to_datetime(uninsured_rate_melted['year'])\n",
    "print(uninsured_rate_melted)"
   ]
  },
  {
   "cell_type": "code",
   "execution_count": 16,
   "metadata": {},
   "outputs": [
    {
     "data": {
      "text/plain": [
       "year        object\n",
       "uni_per    float64\n",
       "dtype: object"
      ]
     },
     "execution_count": 16,
     "metadata": {},
     "output_type": "execute_result"
    }
   ],
   "source": [
    "uninsured_rate_melted.dtypes"
   ]
  },
  {
   "cell_type": "code",
   "execution_count": 17,
   "metadata": {},
   "outputs": [],
   "source": [
    "gdp_df_melted.to_csv(r'gdp_melted.csv')\n",
    "flu_percentages_melted.to_csv(r'flu_percentages_melted.csv')\n",
    "population_density_melted.to_csv(r'population_density_melted.csv')\n",
    "pci_melted.to_csv(r'pci_melted.csv')\n",
    "uninsured_rate_melted.to_csv(r'uninsured_rate_melted.csv')"
   ]
  }
 ],
 "metadata": {
  "kernelspec": {
   "display_name": "Python 3",
   "language": "python",
   "name": "python3"
  },
  "language_info": {
   "codemirror_mode": {
    "name": "ipython",
    "version": 3
   },
   "file_extension": ".py",
   "mimetype": "text/x-python",
   "name": "python",
   "nbconvert_exporter": "python",
   "pygments_lexer": "ipython3",
   "version": "3.7.9"
  }
 },
 "nbformat": 4,
 "nbformat_minor": 4
}
