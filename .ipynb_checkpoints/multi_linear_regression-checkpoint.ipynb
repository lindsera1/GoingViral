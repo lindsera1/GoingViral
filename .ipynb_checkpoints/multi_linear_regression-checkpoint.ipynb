{
 "cells": [
  {
   "cell_type": "code",
   "execution_count": 1,
   "metadata": {},
   "outputs": [],
   "source": [
    "# Import dependencies\n",
    "import pandas as pd\n",
    "import numpy as np\n",
    "import seaborn as sns\n",
    "import matplotlib.pyplot as plt\n",
    "from sklearn.model_selection import train_test_split\n",
    "from sklearn.linear_model import LinearRegression\n",
    "from sklearn.preprocessing import StandardScaler\n",
    "from sklearn.metrics import mean_squared_error, r2_score\n",
    "from sqlalchemy import create_engine\n",
    "from config import user, db_password, host, database"
   ]
  },
  {
   "cell_type": "code",
   "execution_count": 2,
   "metadata": {},
   "outputs": [],
   "source": [
    "# Create the database engine\n",
    "engine = create_engine(f\"postgres://{user}:{db_password}@{host}:5432/{database}\")"
   ]
  },
  {
   "cell_type": "code",
   "execution_count": 33,
   "metadata": {},
   "outputs": [
    {
     "data": {
      "text/html": [
       "<div>\n",
       "<style scoped>\n",
       "    .dataframe tbody tr th:only-of-type {\n",
       "        vertical-align: middle;\n",
       "    }\n",
       "\n",
       "    .dataframe tbody tr th {\n",
       "        vertical-align: top;\n",
       "    }\n",
       "\n",
       "    .dataframe thead th {\n",
       "        text-align: right;\n",
       "    }\n",
       "</style>\n",
       "<table border=\"1\" class=\"dataframe\">\n",
       "  <thead>\n",
       "    <tr style=\"text-align: right;\">\n",
       "      <th></th>\n",
       "      <th>﻿State</th>\n",
       "      <th>xx</th>\n",
       "      <th>2016 Population Density (persons/square mile)</th>\n",
       "      <th>2017 Population Density (persons/square mile)</th>\n",
       "      <th>2018 Population Density (persons/square mile)</th>\n",
       "      <th>2019 Population Density (persons/square mile)</th>\n",
       "      <th>state</th>\n",
       "      <th>2016</th>\n",
       "      <th>2017</th>\n",
       "      <th>2018</th>\n",
       "      <th>2019</th>\n",
       "    </tr>\n",
       "  </thead>\n",
       "  <tbody>\n",
       "  </tbody>\n",
       "</table>\n",
       "</div>"
      ],
      "text/plain": [
       "Empty DataFrame\n",
       "Columns: [﻿State, xx, 2016 Population Density (persons/square mile), 2017 Population Density (persons/square mile), 2018 Population Density (persons/square mile), 2019 Population Density (persons/square mile), state, 2016, 2017, 2018, 2019]\n",
       "Index: []"
      ]
     },
     "execution_count": 33,
     "metadata": {},
     "output_type": "execute_result"
    }
   ],
   "source": [
    "# Create total features table from database tables\n",
    "total_table_df = pd.read_sql_query(\"\"\"SELECT * \n",
    "                                      FROM population_density_by_state as pop\n",
    "                                         JOIN public.cleaned_flu_csv as flu\n",
    "                                         ON 'pop.State' = flu.state\"\"\", con=engine)\n",
    "\n",
    "total_table_df.head()"
   ]
  },
  {
   "cell_type": "code",
   "execution_count": 4,
   "metadata": {},
   "outputs": [],
   "source": [
    "#Import population density by state table and check column names\n",
    "\n",
    "# Create population density dataframe\n",
    "pop_df = pd.read_sql_query(\"SELECT * FROM population_density_by_state\", con=engine)\n",
    "\n",
    "# Create uninsured dataframe\n",
    "uni_df = pd.read_sql_query(\"SELECT * FROM uninsured_rates_by_state\", con=engine)\n",
    "\n",
    "# Create gdp dataframe\n",
    "gdp_df = pd.read_sql_query(\"SELECT * FROM cleaned_gbp_csv\", con=engine)\n",
    "\n",
    "# Create flu dataframe\n",
    "flu_df = pd.read_sql_query(\"SELECT * FROM flu_percentages\", con=engine)"
   ]
  },
  {
   "cell_type": "code",
   "execution_count": 5,
   "metadata": {},
   "outputs": [],
   "source": [
    "# Check the pop_df out\n",
    "pop_df.head()\n",
    "\n",
    "pop_df = pop_df.drop(columns=\"xx\", axis=1)\n",
    "pop_df.drop(pop_df.index[(pop_df['﻿State'] == \"District Of Columbia\")], axis=0, inplace=True)\n",
    "\n",
    "# print(pop_df)"
   ]
  },
  {
   "cell_type": "code",
   "execution_count": 6,
   "metadata": {},
   "outputs": [
    {
     "data": {
      "text/plain": [
       "Index(['﻿State', 'Uninsured Rate 2016', 'Uninsured Rate 2017',\n",
       "       'Uninsured Rate 2018', 'Uninsured Rate 2019'],\n",
       "      dtype='object')"
      ]
     },
     "execution_count": 6,
     "metadata": {},
     "output_type": "execute_result"
    }
   ],
   "source": [
    "# Check out the uninsured dataframe\n",
    "uni_df.head()\n",
    "\n",
    "uni_df.drop(uni_df.index[(uni_df['﻿State'] == \"District of Columbia\")], axis=0, inplace=True)\n",
    "\n",
    "uni_df.columns"
   ]
  },
  {
   "cell_type": "code",
   "execution_count": 7,
   "metadata": {},
   "outputs": [
    {
     "data": {
      "text/plain": [
       "Index(['state_name', 'gdp_2016', 'gdp_2017', 'gdp_2018', 'gdp_2019'], dtype='object')"
      ]
     },
     "execution_count": 7,
     "metadata": {},
     "output_type": "execute_result"
    }
   ],
   "source": [
    "# Check out the gdp dataframe\n",
    "gdp_df.head()\n",
    "\n",
    "gdp_df = gdp_df.drop(columns=[\"column1\", \"description\", \"gdp_2015\"])\n",
    "\n",
    "gdp_df.columns\n",
    "\n",
    "# print(gdp_df)"
   ]
  },
  {
   "cell_type": "code",
   "execution_count": 8,
   "metadata": {},
   "outputs": [
    {
     "data": {
      "text/plain": [
       "Index(['state', '2016_cases_percent', '2017_cases_percent',\n",
       "       '2018_cases_percent', '2019_cases_percent'],\n",
       "      dtype='object')"
      ]
     },
     "execution_count": 8,
     "metadata": {},
     "output_type": "execute_result"
    }
   ],
   "source": [
    "# Check out the flu_df\n",
    "flu_df.head()\n",
    "\n",
    "flu_df.drop(flu_df.index[(flu_df[\"state\"]) == \"District of Columbia\"], axis=0, inplace=True)\n",
    "\n",
    "flu_df.columns"
   ]
  },
  {
   "cell_type": "code",
   "execution_count": 9,
   "metadata": {},
   "outputs": [
    {
     "data": {
      "text/html": [
       "<div>\n",
       "<style scoped>\n",
       "    .dataframe tbody tr th:only-of-type {\n",
       "        vertical-align: middle;\n",
       "    }\n",
       "\n",
       "    .dataframe tbody tr th {\n",
       "        vertical-align: top;\n",
       "    }\n",
       "\n",
       "    .dataframe thead th {\n",
       "        text-align: right;\n",
       "    }\n",
       "</style>\n",
       "<table border=\"1\" class=\"dataframe\">\n",
       "  <thead>\n",
       "    <tr style=\"text-align: right;\">\n",
       "      <th></th>\n",
       "      <th>﻿State</th>\n",
       "      <th>2016 Population Density (persons/square mile)</th>\n",
       "      <th>2017 Population Density (persons/square mile)</th>\n",
       "      <th>2018 Population Density (persons/square mile)</th>\n",
       "      <th>2019 Population Density (persons/square mile)</th>\n",
       "      <th>Uninsured Rate 2016</th>\n",
       "      <th>Uninsured Rate 2017</th>\n",
       "      <th>Uninsured Rate 2018</th>\n",
       "      <th>Uninsured Rate 2019</th>\n",
       "      <th>gdp_2016</th>\n",
       "      <th>gdp_2017</th>\n",
       "      <th>gdp_2018</th>\n",
       "      <th>gdp_2019</th>\n",
       "    </tr>\n",
       "  </thead>\n",
       "  <tbody>\n",
       "    <tr>\n",
       "      <th>0</th>\n",
       "      <td>Alabama</td>\n",
       "      <td>96.03</td>\n",
       "      <td>96.25</td>\n",
       "      <td>96.51</td>\n",
       "      <td>96.81</td>\n",
       "      <td>9.1</td>\n",
       "      <td>9.4</td>\n",
       "      <td>10.0</td>\n",
       "      <td>9.7</td>\n",
       "      <td>191523</td>\n",
       "      <td>193693</td>\n",
       "      <td>198053</td>\n",
       "      <td>200829</td>\n",
       "    </tr>\n",
       "    <tr>\n",
       "      <th>1</th>\n",
       "      <td>Alaska</td>\n",
       "      <td>1.30</td>\n",
       "      <td>1.30</td>\n",
       "      <td>1.29</td>\n",
       "      <td>1.28</td>\n",
       "      <td>14.0</td>\n",
       "      <td>13.7</td>\n",
       "      <td>12.0</td>\n",
       "      <td>12.2</td>\n",
       "      <td>53289</td>\n",
       "      <td>52825</td>\n",
       "      <td>52928</td>\n",
       "      <td>53255</td>\n",
       "    </tr>\n",
       "    <tr>\n",
       "      <th>2</th>\n",
       "      <td>Arizona</td>\n",
       "      <td>61.10</td>\n",
       "      <td>62.01</td>\n",
       "      <td>63.01</td>\n",
       "      <td>64.08</td>\n",
       "      <td>10.0</td>\n",
       "      <td>10.1</td>\n",
       "      <td>10.0</td>\n",
       "      <td>11.3</td>\n",
       "      <td>291259</td>\n",
       "      <td>302117</td>\n",
       "      <td>314016</td>\n",
       "      <td>323597</td>\n",
       "    </tr>\n",
       "    <tr>\n",
       "      <th>3</th>\n",
       "      <td>Arkansas</td>\n",
       "      <td>57.46</td>\n",
       "      <td>57.68</td>\n",
       "      <td>57.84</td>\n",
       "      <td>58.00</td>\n",
       "      <td>7.9</td>\n",
       "      <td>7.9</td>\n",
       "      <td>8.0</td>\n",
       "      <td>9.1</td>\n",
       "      <td>113490</td>\n",
       "      <td>114950</td>\n",
       "      <td>116698</td>\n",
       "      <td>117447</td>\n",
       "    </tr>\n",
       "    <tr>\n",
       "      <th>4</th>\n",
       "      <td>California</td>\n",
       "      <td>251.43</td>\n",
       "      <td>252.66</td>\n",
       "      <td>253.32</td>\n",
       "      <td>253.64</td>\n",
       "      <td>7.3</td>\n",
       "      <td>7.2</td>\n",
       "      <td>7.0</td>\n",
       "      <td>7.7</td>\n",
       "      <td>2519133</td>\n",
       "      <td>2628314</td>\n",
       "      <td>2708966</td>\n",
       "      <td>2800505</td>\n",
       "    </tr>\n",
       "  </tbody>\n",
       "</table>\n",
       "</div>"
      ],
      "text/plain": [
       "       ﻿State  2016 Population Density (persons/square mile)  \\\n",
       "0     Alabama                                          96.03   \n",
       "1      Alaska                                           1.30   \n",
       "2     Arizona                                          61.10   \n",
       "3    Arkansas                                          57.46   \n",
       "4  California                                         251.43   \n",
       "\n",
       "   2017 Population Density (persons/square mile)  \\\n",
       "0                                          96.25   \n",
       "1                                           1.30   \n",
       "2                                          62.01   \n",
       "3                                          57.68   \n",
       "4                                         252.66   \n",
       "\n",
       "   2018 Population Density (persons/square mile)  \\\n",
       "0                                          96.51   \n",
       "1                                           1.29   \n",
       "2                                          63.01   \n",
       "3                                          57.84   \n",
       "4                                         253.32   \n",
       "\n",
       "   2019 Population Density (persons/square mile)  Uninsured Rate 2016  \\\n",
       "0                                          96.81                  9.1   \n",
       "1                                           1.28                 14.0   \n",
       "2                                          64.08                 10.0   \n",
       "3                                          58.00                  7.9   \n",
       "4                                         253.64                  7.3   \n",
       "\n",
       "   Uninsured Rate 2017  Uninsured Rate 2018  Uninsured Rate 2019  gdp_2016  \\\n",
       "0                  9.4                 10.0                  9.7    191523   \n",
       "1                 13.7                 12.0                 12.2     53289   \n",
       "2                 10.1                 10.0                 11.3    291259   \n",
       "3                  7.9                  8.0                  9.1    113490   \n",
       "4                  7.2                  7.0                  7.7   2519133   \n",
       "\n",
       "   gdp_2017  gdp_2018  gdp_2019  \n",
       "0    193693    198053    200829  \n",
       "1     52825     52928     53255  \n",
       "2    302117    314016    323597  \n",
       "3    114950    116698    117447  \n",
       "4   2628314   2708966   2800505  "
      ]
     },
     "execution_count": 9,
     "metadata": {},
     "output_type": "execute_result"
    }
   ],
   "source": [
    "# Merge dataframes\n",
    "flu_factors_df = pop_df.merge(uni_df, how=\"left\")\n",
    "\n",
    "flu_factors_df = pd.concat([flu_factors_df, gdp_df], axis=1)\n",
    " \n",
    "flu_factors_df.drop(columns=\"state_name\", inplace=True)\n",
    "\n",
    "flu_factors_df.head()"
   ]
  },
  {
   "cell_type": "code",
   "execution_count": 10,
   "metadata": {},
   "outputs": [
    {
     "data": {
      "text/plain": [
       "Index(['﻿State', '2016 Population Density (persons/square mile)',\n",
       "       '2017 Population Density (persons/square mile)',\n",
       "       '2018 Population Density (persons/square mile)',\n",
       "       '2019 Population Density (persons/square mile)', 'Uninsured Rate 2016',\n",
       "       'Uninsured Rate 2017', 'Uninsured Rate 2018', 'Uninsured Rate 2019',\n",
       "       'gdp_2016', 'gdp_2017', 'gdp_2018', 'gdp_2019'],\n",
       "      dtype='object')"
      ]
     },
     "execution_count": 10,
     "metadata": {},
     "output_type": "execute_result"
    }
   ],
   "source": [
    "# Check flu factors df columns\n",
    "flu_factors_df.columns"
   ]
  },
  {
   "cell_type": "code",
   "execution_count": 11,
   "metadata": {},
   "outputs": [],
   "source": [
    "# Seperate into years\n",
    "# factors in 2016\n",
    "flu_factors_2016_df = flu_factors_df[['﻿State', '2016 Population Density (persons/square mile)', \n",
    "                                     'Uninsured Rate 2016', 'gdp_2016']]\n",
    "\n",
    "# flu_factors_2016_df.head()\n",
    "\n",
    "# factors in 2017\n",
    "flu_factors_2017_df = flu_factors_df[['﻿State', '2017 Population Density (persons/square mile)', \n",
    "                                     'Uninsured Rate 2017', 'gdp_2017']]\n",
    "\n",
    "# flu_factors_2017_df.head()\n",
    "\n",
    "# factors in 2018\n",
    "flu_factors_2018_df = flu_factors_df[['﻿State', '2018 Population Density (persons/square mile)', \n",
    "                                     'Uninsured Rate 2018', 'gdp_2018']]\n",
    "\n",
    "# flu_factors_2018_df.head()\n",
    "\n",
    "# factors in 2019\n",
    "flu_factors_2019_df = flu_factors_df[['﻿State', '2019 Population Density (persons/square mile)', \n",
    "                                     'Uninsured Rate 2019', 'gdp_2019']]\n",
    "\n",
    "# flu_factors_2019_df.head()"
   ]
  },
  {
   "cell_type": "code",
   "execution_count": 12,
   "metadata": {},
   "outputs": [],
   "source": [
    "# Designate independent and dependent variables\n",
    "\n",
    "# Dependent variables\n",
    "y_2016 = flu_df['2016_cases_percent']\n",
    "y_2017 = flu_df['2017_cases_percent']\n",
    "y_2018 = flu_df['2018_cases_percent']\n",
    "y_2019 = flu_df['2019_cases_percent']\n",
    "\n",
    "# Independent variables\n",
    "X_2016 = flu_factors_2016_df[['2016 Population Density (persons/square mile)', \n",
    "                              'Uninsured Rate 2016', 'gdp_2016']]\n",
    "X_2017 = flu_factors_2017_df[['2017 Population Density (persons/square mile)', \n",
    "                              'Uninsured Rate 2017', 'gdp_2017']]\n",
    "X_2018 = flu_factors_2018_df[['2018 Population Density (persons/square mile)', \n",
    "                              'Uninsured Rate 2018', 'gdp_2018']]\n",
    "X_2019 = flu_factors_2019_df[['2019 Population Density (persons/square mile)', \n",
    "                              'Uninsured Rate 2019', 'gdp_2019']]"
   ]
  },
  {
   "cell_type": "code",
   "execution_count": 13,
   "metadata": {},
   "outputs": [
    {
     "data": {
      "text/plain": [
       "2016 Population Density (persons/square mile)    0\n",
       "Uninsured Rate 2016                              0\n",
       "gdp_2016                                         0\n",
       "dtype: int64"
      ]
     },
     "execution_count": 13,
     "metadata": {},
     "output_type": "execute_result"
    }
   ],
   "source": [
    "# Check for nan values\n",
    "X_2016.isnull().sum()"
   ]
  },
  {
   "cell_type": "code",
   "execution_count": 14,
   "metadata": {},
   "outputs": [
    {
     "data": {
      "image/png": "[encoded data removed]",
      "text/plain": [
       "<Figure size 432x288 with 1 Axes>"
      ]
     },
     "metadata": {
      "needs_background": "light"
     },
     "output_type": "display_data"
    }
   ],
   "source": [
    "# visualize 2016 data\n",
    "\n",
    "fig_2016 = plt.plot(X_2016, y_2016, 'o')"
   ]
  },
  {
   "cell_type": "code",
   "execution_count": 15,
   "metadata": {},
   "outputs": [
    {
     "data": {
      "image/png": "[encoded data removed]",
      "text/plain": [
       "<Figure size 432x288 with 1 Axes>"
      ]
     },
     "metadata": {
      "needs_background": "light"
     },
     "output_type": "display_data"
    }
   ],
   "source": [
    "# visualize 2017 data\n",
    "\n",
    "fig_2017 = plt.plot(X_2017, y_2017, 'o')"
   ]
  },
  {
   "cell_type": "code",
   "execution_count": 16,
   "metadata": {},
   "outputs": [
    {
     "data": {
      "image/png": "[encoded data removed]",
      "text/plain": [
       "<Figure size 432x288 with 1 Axes>"
      ]
     },
     "metadata": {
      "needs_background": "light"
     },
     "output_type": "display_data"
    }
   ],
   "source": [
    "# visualize 2018 data\n",
    "\n",
    "fig_2018 = plt.plot(X_2018, y_2018, 'o')"
   ]
  },
  {
   "cell_type": "code",
   "execution_count": 17,
   "metadata": {},
   "outputs": [
    {
     "data": {
      "image/png": "[encoded data removed]",
      "text/plain": [
       "<Figure size 432x288 with 1 Axes>"
      ]
     },
     "metadata": {
      "needs_background": "light"
     },
     "output_type": "display_data"
    }
   ],
   "source": [
    "# visualize 2019 data\n",
    "\n",
    "fig_2019 = plt.plot(X_2019, y_2019, 'o')"
   ]
  },
  {
   "cell_type": "code",
   "execution_count": 18,
   "metadata": {},
   "outputs": [],
   "source": [
    "# Split data\n",
    "\n",
    "# 2016\n",
    "X_2016_train, X_2016_test, y_2016_train, y_2016_test = train_test_split(X_2016, y_2016, random_state=42)\n",
    "\n",
    "# 2017\n",
    "X_2017_train, X_2017_test, y_2017_train, y_2017_test = train_test_split(X_2017, y_2017, random_state=42) \n",
    "\n",
    "# 2018\n",
    "X_2018_train, X_2018_test, y_2018_train, y_2018_test = train_test_split(X_2018, y_2018, random_state=42) \n",
    "\n",
    "# 2019\n",
    "X_2019_train, X_2019_test, y_2019_train, y_2019_test = train_test_split(X_2019, y_2019, random_state=42) "
   ]
  },
  {
   "cell_type": "code",
   "execution_count": 19,
   "metadata": {},
   "outputs": [],
   "source": [
    "# Initiate scaler\n",
    "scaler = StandardScaler()"
   ]
  },
  {
   "cell_type": "code",
   "execution_count": 20,
   "metadata": {},
   "outputs": [],
   "source": [
    "# Scale data\n",
    "\n",
    "# # training\n",
    "X_2016_train_scaled = scaler.fit_transform(X_2016_train)\n",
    "X_2017_train_scaled = scaler.fit_transform(X_2017_train)\n",
    "X_2018_train_scaled = scaler.fit_transform(X_2018_train)\n",
    "X_2019_train_scaled = scaler.fit_transform(X_2019_train)\n",
    "\n",
    "# # testing\n",
    "X_2016_test_scaled = scaler.fit_transform(X_2016_test)\n",
    "X_2017_test_scaled = scaler.fit_transform(X_2017_test)\n",
    "X_2018_test_scaled = scaler.fit_transform(X_2018_test)\n",
    "X_2019_test_scaled = scaler.fit_transform(X_2019_test)"
   ]
  },
  {
   "cell_type": "code",
   "execution_count": 21,
   "metadata": {},
   "outputs": [],
   "source": [
    "# initialize the Linear Regression model\n",
    "\n",
    "model = LinearRegression()"
   ]
  },
  {
   "cell_type": "code",
   "execution_count": 22,
   "metadata": {},
   "outputs": [],
   "source": [
    "# X_2016_train_scaled"
   ]
  },
  {
   "cell_type": "code",
   "execution_count": 23,
   "metadata": {},
   "outputs": [],
   "source": [
    "# fit model\n",
    "\n",
    "# 2016\n",
    "mlr_2016 = model.fit(X_2016_train_scaled, y_2016_train)\n",
    "\n",
    "# 2017\n",
    "mlr_2017 = model.fit(X_2017_train_scaled, y_2017_train)\n",
    "\n",
    "# 2018\n",
    "mlr_2018 = model.fit(X_2018_train_scaled, y_2018_train)\n",
    "\n",
    "# 2019\n",
    "mlr_2019 = model.fit(X_2019_train_scaled, y_2019_train)"
   ]
  },
  {
   "cell_type": "code",
   "execution_count": 24,
   "metadata": {},
   "outputs": [],
   "source": [
    "# create predictions\n",
    "\n",
    "# 2016\n",
    "y_2016_pred = mlr_2016.predict(X_2016_test_scaled)\n",
    "\n",
    "# 2017\n",
    "y_2017_pred = mlr_2017.predict(X_2017_test_scaled)\n",
    "\n",
    "# 2018\n",
    "y_2018_pred = mlr_2018.predict(X_2018_test_scaled)\n",
    "\n",
    "# 2019\n",
    "y_2019_pred = mlr_2019.predict(X_2019_test_scaled)"
   ]
  },
  {
   "cell_type": "code",
   "execution_count": 25,
   "metadata": {
    "scrolled": true
   },
   "outputs": [
    {
     "name": "stdout",
     "output_type": "stream",
     "text": [
      "\n",
      "\n",
      "Coefficients:  [ 0.02484218  0.11428699 -0.11444794]\n",
      "Mean squared error: 0.17\n",
      "Coefficinet of determination: -0.30\n",
      "\n",
      "\n",
      "Coefficients:  [ 0.02484218  0.11428699 -0.11444794]\n",
      "Mean squared error: 0.28\n",
      "Coefficinet of determination: -0.02\n",
      "\n",
      "\n",
      "Coefficients:  [ 0.02484218  0.11428699 -0.11444794]\n",
      "Mean squared error: 0.31\n",
      "Coefficinet of determination: 0.06\n",
      "\n",
      "\n",
      "Coefficients:  [ 0.02484218  0.11428699 -0.11444794]\n",
      "Mean squared error: 0.63\n",
      "Coefficinet of determination: -0.04\n",
      "\n",
      "\n"
     ]
    }
   ],
   "source": [
    "# Print 2016 coefficients\n",
    "print(\"\\n\")\n",
    "print(\"Coefficients: \", mlr_2016.coef_)\n",
    "# Print 2016 mean squared error\n",
    "print(\"Mean squared error: %.2f\"\n",
    "      % mean_squared_error(y_2016_test, y_2016_pred))\n",
    "# Print coefficients of determination\n",
    "print('Coefficinet of determination: %.2f'\n",
    "      % r2_score(y_2016_test, y_2016_pred))\n",
    "print(\"\\n\")\n",
    "\n",
    "# Print 2017 coefficients\n",
    "print(\"Coefficients: \", mlr_2017.coef_)\n",
    "# Print 2017 mean squared error\n",
    "print(\"Mean squared error: %.2f\"\n",
    "      % mean_squared_error(y_2017_test, y_2017_pred))\n",
    "# Print coefficients of determination\n",
    "print('Coefficinet of determination: %.2f'\n",
    "      % r2_score(y_2017_test, y_2017_pred))\n",
    "print(\"\\n\")\n",
    "\n",
    "# Print 2018 coefficients\n",
    "print(\"Coefficients: \", mlr_2018.coef_)\n",
    "# Print 2018 mean squared error\n",
    "print(\"Mean squared error: %.2f\"\n",
    "      % mean_squared_error(y_2018_test, y_2018_pred))\n",
    "# Print coefficients of determination\n",
    "print('Coefficinet of determination: %.2f'\n",
    "      % r2_score(y_2018_test, y_2018_pred))\n",
    "print(\"\\n\")\n",
    "\n",
    "# Print 2019 coefficients\n",
    "print(\"Coefficients: \", mlr_2019.coef_)\n",
    "# Print 2019 mean squared error\n",
    "print(\"Mean squared error: %.2f\"\n",
    "      % mean_squared_error(y_2019_test, y_2019_pred))\n",
    "# Print coefficients of determination\n",
    "print('Coefficinet of determination: %.2f'\n",
    "      % r2_score(y_2019_test, y_2019_pred))\n",
    "print(\"\\n\")"
   ]
  },
  {
   "cell_type": "code",
   "execution_count": 36,
   "metadata": {},
   "outputs": [
    {
     "data": {
      "image/png": "[encoded data removed]",
      "text/plain": [
       "<Figure size 432x288 with 1 Axes>"
      ]
     },
     "metadata": {
      "needs_background": "light"
     },
     "output_type": "display_data"
    }
   ],
   "source": [
    "# Plot the linear regression 2016\n",
    "lin_reg_2016 = plt.plot(X_2016_test_scaled, y_2016_test, 'o')"
   ]
  },
  {
   "cell_type": "code",
   "execution_count": 27,
   "metadata": {},
   "outputs": [
    {
     "data": {
      "image/png": "[encoded data removed]",
      "text/plain": [
       "<Figure size 432x288 with 1 Axes>"
      ]
     },
     "metadata": {
      "needs_background": "light"
     },
     "output_type": "display_data"
    }
   ],
   "source": [
    "# Plot the linear regression 2017\n",
    "lin_reg_2017 = plt.plot(X_2017_test_scaled, y_2017_test, 'o')"
   ]
  },
  {
   "cell_type": "code",
   "execution_count": 28,
   "metadata": {},
   "outputs": [
    {
     "data": {
      "image/png": "[encoded data removed]",
      "text/plain": [
       "<Figure size 432x288 with 1 Axes>"
      ]
     },
     "metadata": {
      "needs_background": "light"
     },
     "output_type": "display_data"
    }
   ],
   "source": [
    "# Plot the linear regression 2018\n",
    "lin_reg_2018 = plt.plot(X_2018_test_scaled, y_2018_test, 'o')"
   ]
  },
  {
   "cell_type": "code",
   "execution_count": 29,
   "metadata": {},
   "outputs": [
    {
     "data": {
      "image/png": "[encoded data removed]",
      "text/plain": [
       "<Figure size 432x288 with 1 Axes>"
      ]
     },
     "metadata": {
      "needs_background": "light"
     },
     "output_type": "display_data"
    }
   ],
   "source": [
    "# Plot the linear regression 2019\n",
    "lin_reg_2019 = plt.plot(X_2019_test_scaled, y_2019_test, 'o')"
   ]
  }
 ],
 "metadata": {
  "kernelspec": {
   "display_name": "PythonData",
   "language": "python",
   "name": "pythondata"
  },
  "language_info": {
   "codemirror_mode": {
    "name": "ipython",
    "version": 3
   },
   "file_extension": ".py",
   "mimetype": "text/x-python",
   "name": "python",
   "nbconvert_exporter": "python",
   "pygments_lexer": "ipython3",
   "version": "3.7.7"
  }
 },
 "nbformat": 4,
 "nbformat_minor": 4
}
